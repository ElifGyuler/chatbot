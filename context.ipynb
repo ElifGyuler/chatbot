{
 "cells": [
  {
   "cell_type": "markdown",
   "id": "2858e989",
   "metadata": {
    "papermill": {
     "duration": 0.001666,
     "end_time": "2025-01-02T18:43:57.471229",
     "exception": false,
     "start_time": "2025-01-02T18:43:57.469563",
     "status": "completed"
    },
    "tags": []
   },
   "source": [
    "This notebook covers the detailed creation of a chatbot related to my thesis written at the University of Groningen. In this chatbot creation process, you can find the codes regarding API acquisition, training the artificial intelligence model with it, transferring my thesis to this artificial intelligence, and publishing my chatbot created through streamlit.\n",
    "Feel free to let me know if you'd like any adjustments to the translation or have questions about specific terms!\n"
   ]
  }
 ],
 "metadata": {
  "kaggle": {
   "accelerator": "none",
   "dataSources": [
    {
     "modelId": 207412,
     "modelInstanceId": 185273,
     "sourceId": 217281,
     "sourceType": "modelInstanceVersion"
    }
   ],
   "dockerImageVersionId": 30822,
   "isGpuEnabled": false,
   "isInternetEnabled": true,
   "language": "python",
   "sourceType": "notebook"
  },
  "kernelspec": {
   "display_name": "Python 3",
   "language": "python",
   "name": "python3"
  },
  "language_info": {
   "codemirror_mode": {
    "name": "ipython",
    "version": 3
   },
   "file_extension": ".py",
   "mimetype": "text/x-python",
   "name": "python",
   "nbconvert_exporter": "python",
   "pygments_lexer": "ipython3",
   "version": "3.10.12"
  },
  "papermill": {
   "default_parameters": {},
   "duration": 2.590358,
   "end_time": "2025-01-02T18:43:57.891694",
   "environment_variables": {},
   "exception": null,
   "input_path": "__notebook__.ipynb",
   "output_path": "__notebook__.ipynb",
   "parameters": {},
   "start_time": "2025-01-02T18:43:55.301336",
   "version": "2.6.0"
  }
 },
 "nbformat": 4,
 "nbformat_minor": 5
}
